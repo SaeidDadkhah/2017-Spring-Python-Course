{
 "cells": [
  {
   "cell_type": "markdown",
   "metadata": {
    "collapsed": true
   },
   "source": [
    "# Indexing and slicing lists"
   ]
  },
  {
   "cell_type": "code",
   "execution_count": 8,
   "metadata": {},
   "outputs": [
    {
     "name": "stdout",
     "output_type": "stream",
     "text": [
      "[1, 2, 3]\n4\n"
     ]
    }
   ],
   "source": [
    "l = [1, 2, 3, 4]\n",
    "print(l[0:3])\n",
    "print(l[-1])"
   ]
  },
  {
   "cell_type": "markdown",
   "metadata": {},
   "source": [
    "# Errors and exceptions"
   ]
  },
  {
   "cell_type": "code",
   "execution_count": 9,
   "metadata": {},
   "outputs": [
    {
     "ename": "SyntaxError",
     "evalue": "invalid syntax (<ipython-input-9-141c82b09c22>, line 1)",
     "traceback": [
      "\u001b[0;36m  File \u001b[0;32m\"<ipython-input-9-141c82b09c22>\"\u001b[0;36m, line \u001b[0;32m1\u001b[0m\n\u001b[0;31m    whil 1, 12:\u001b[0m\n\u001b[0m         ^\u001b[0m\n\u001b[0;31mSyntaxError\u001b[0m\u001b[0;31m:\u001b[0m invalid syntax\n"
     ],
     "output_type": "error"
    }
   ],
   "source": [
    "whil 1, 12:\n",
    "    print(1)"
   ]
  },
  {
   "cell_type": "code",
   "execution_count": 10,
   "metadata": {},
   "outputs": [],
   "source": [
    "def sum(x, y):\n",
    "    return x - y"
   ]
  },
  {
   "cell_type": "code",
   "execution_count": 15,
   "metadata": {},
   "outputs": [
    {
     "name": "stdout",
     "output_type": "stream",
     "text": [
      "None\n"
     ]
    }
   ],
   "source": [
    "def div(x, y):\n",
    "    try:\n",
    "        return x / y\n",
    "    except ZeroDivisionError:\n",
    "        return x\n",
    "    except TypeError:\n",
    "        return None\n",
    "\n",
    "a = 1\n",
    "print(div('Hello', 1 - a))"
   ]
  },
  {
   "cell_type": "code",
   "execution_count": 16,
   "metadata": {},
   "outputs": [
    {
     "name": "stdout",
     "output_type": "stream",
     "text": [
      "foo\n"
     ]
    }
   ],
   "source": [
    "def my_div(x, y):\n",
    "    if y == 0:\n",
    "        raise ZeroDivisionError\n",
    "    return x / y\n",
    "\n",
    "try:\n",
    "    my_div(1, 0)\n",
    "except ZeroDivisionError:\n",
    "    print('foo')"
   ]
  },
  {
   "cell_type": "code",
   "execution_count": 20,
   "metadata": {},
   "outputs": [
    {
     "name": "stdout",
     "output_type": "stream",
     "text": [
      "1\n3\n"
     ]
    }
   ],
   "source": [
    "for i in range(1, 5, 2):\n",
    "    print(i)"
   ]
  },
  {
   "cell_type": "code",
   "execution_count": 21,
   "metadata": {},
   "outputs": [
    {
     "name": "stdout",
     "output_type": "stream",
     "text": [
      "1\n3\n"
     ]
    }
   ],
   "source": [
    "def my_range(*args):\n",
    "    if len(args) == 1:\n",
    "        start = 0\n",
    "        end = args[0]\n",
    "        step = 1\n",
    "    elif len(args) == 2:\n",
    "        start = args[0]\n",
    "        end = args[1]\n",
    "        step = 1\n",
    "    elif len(args) == 3:\n",
    "        start = args[0]\n",
    "        end = args[1]\n",
    "        step = args[2]\n",
    "    else:\n",
    "        raise TypeError\n",
    "    while start < end:\n",
    "        yield start\n",
    "        start += step\n",
    "\n",
    "for i in my_range(1, 5, 2):\n",
    "    print(i)"
   ]
  },
  {
   "cell_type": "code",
   "execution_count": 27,
   "metadata": {},
   "outputs": [
    {
     "name": "stdout",
     "output_type": "stream",
     "text": [
      "truly evaluated\n"
     ]
    }
   ],
   "source": [
    "try:\n",
    "    a = 2 / 2\n",
    "except ZeroDivisionError:\n",
    "    print('zero')\n",
    "except TypeError:\n",
    "    print('type')\n",
    "else:\n",
    "    print('truly evaluated')"
   ]
  },
  {
   "cell_type": "code",
   "execution_count": 29,
   "metadata": {},
   "outputs": [
    {
     "name": "stdout",
     "output_type": "stream",
     "text": [
      "zero\nevaluated\n"
     ]
    }
   ],
   "source": [
    "try:\n",
    "    a = 2 / 0\n",
    "except ZeroDivisionError:\n",
    "    print('zero')\n",
    "except TypeError:\n",
    "    print('type')\n",
    "else:\n",
    "    print('truly evaluated')\n",
    "finally:\n",
    "    print('evaluated')"
   ]
  },
  {
   "cell_type": "code",
   "execution_count": null,
   "metadata": {},
   "outputs": [],
   "source": [
    ""
   ]
  }
 ],
 "metadata": {
  "kernelspec": {
   "display_name": "Python 2",
   "language": "python",
   "name": "python2"
  },
  "language_info": {
   "codemirror_mode": {
    "name": "ipython",
    "version": 2.0
   },
   "file_extension": ".py",
   "mimetype": "text/x-python",
   "name": "python",
   "nbconvert_exporter": "python",
   "pygments_lexer": "ipython2",
   "version": "2.7.6"
  }
 },
 "nbformat": 4,
 "nbformat_minor": 0
}
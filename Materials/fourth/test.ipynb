{
 "cells": [
  {
   "cell_type": "code",
   "execution_count": 11,
   "metadata": {
    "collapsed": true
   },
   "outputs": [
    {
     "name": "stdout",
     "output_type": "stream",
     "text": [
      "1\n3\n"
     ]
    }
   ],
   "source": [
    "def my_range(*args):\n",
    "    if len(args) == 1:\n",
    "        start = 0\n",
    "        step = 1\n",
    "        end = args[0]\n",
    "    elif len(args) == 2:\n",
    "        start = args[0]\n",
    "        step = 1\n",
    "        end = args[1]\n",
    "    elif len(args) == 3:\n",
    "        start = args[0]\n",
    "        step = args[2]\n",
    "        end = args[1]\n",
    "    else:\n",
    "        raise TypeError\n",
    "    while start < end:\n",
    "        yield start\n",
    "        start += step\n",
    "\n",
    "for i in my_range(1, 5, 2):\n",
    "    print(i)"
   ]
  },
  {
   "cell_type": "code",
   "execution_count": 13,
   "metadata": {},
   "outputs": [
    {
     "name": "stdout",
     "output_type": "stream",
     "text": [
      "00000101\n"
     ]
    }
   ],
   "source": [
    "def b(num):\n",
    "    print('{:08b}'.format(num))\n",
    "b(5)"
   ]
  },
  {
   "cell_type": "code",
   "execution_count": null,
   "metadata": {},
   "outputs": [],
   "source": [
    ""
   ]
  }
 ],
 "metadata": {
  "kernelspec": {
   "display_name": "Python 2",
   "language": "python",
   "name": "python2"
  },
  "language_info": {
   "codemirror_mode": {
    "name": "ipython",
    "version": 2.0
   },
   "file_extension": ".py",
   "mimetype": "text/x-python",
   "name": "python",
   "nbconvert_exporter": "python",
   "pygments_lexer": "ipython2",
   "version": "2.7.6"
  }
 },
 "nbformat": 4,
 "nbformat_minor": 0
}
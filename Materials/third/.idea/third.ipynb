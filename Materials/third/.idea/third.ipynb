{
 "cells": [
  {
   "cell_type": "markdown",
   "metadata": {
    "collapsed": true
   },
   "source": [
    "# Object oriented programming"
   ]
  },
  {
   "cell_type": "markdown",
   "metadata": {},
   "source": [
    "## ID, type and value"
   ]
  },
  {
   "cell_type": "code",
   "execution_count": 28,
   "metadata": {},
   "outputs": [
    {
     "name": "stdout",
     "output_type": "stream",
     "text": [
      "1892416593160\n1892416593288\n<class 'list'>\n"
     ]
    }
   ],
   "source": [
    "l = [1, 2, 3]\n",
    "l2 = [1, 2, 3]\n",
    "print(id(l))\n",
    "print(id(l2))\n",
    "\n",
    "print(type(l))"
   ]
  },
  {
   "cell_type": "code",
   "execution_count": 29,
   "metadata": {},
   "outputs": [
    {
     "name": "stdout",
     "output_type": "stream",
     "text": [
      "1545124304\n1545124304\n<class 'int'>\n1892415412072\n<class 'float'>\n"
     ]
    }
   ],
   "source": [
    "print(id(1))\n",
    "print(id(1))\n",
    "print(type(1))\n",
    "print(id(1.0))\n",
    "print(type(1.0))"
   ]
  },
  {
   "cell_type": "code",
   "execution_count": 30,
   "metadata": {},
   "outputs": [
    {
     "name": "stdout",
     "output_type": "stream",
     "text": [
      "1892344725096\n1892344725096\n"
     ]
    }
   ],
   "source": [
    "print(id('a'))\n",
    "print(id('a'))"
   ]
  },
  {
   "cell_type": "markdown",
   "metadata": {},
   "source": [
    "## Class"
   ]
  },
  {
   "cell_type": "code",
   "execution_count": 31,
   "metadata": {},
   "outputs": [
    {
     "name": "stdout",
     "output_type": "stream",
     "text": [
      "Ali\n"
     ]
    }
   ],
   "source": [
    "class Human:\n",
    "    def __init__(self, name):\n",
    "        self.__name = name\n",
    "\n",
    "    def tell_me_your_name(self):\n",
    "        return self.__name\n",
    "\n",
    "human1 = Human('Ali')\n",
    "human1.__name = 'Saeid'\n",
    "print(human1.tell_me_your_name())"
   ]
  },
  {
   "cell_type": "code",
   "execution_count": 33,
   "metadata": {},
   "outputs": [
    {
     "name": "stdout",
     "output_type": "stream",
     "text": [
      "Saeid\n"
     ]
    }
   ],
   "source": [
    "class Student(Human):\n",
    "    def __init__(self, name):\n",
    "        super().__init__(name)\n",
    "\n",
    "std1 = Student('Saeid')\n",
    "print(std1.tell_me_your_name())"
   ]
  },
  {
   "cell_type": "code",
   "execution_count": 34,
   "metadata": {},
   "outputs": [],
   "source": [
    "class Player(Human):\n",
    "    def __init__(self, player_number):\n",
    "        self.__player_number = player_number\n",
    "    \n",
    "    def player_number(self):\n",
    "        return self.__player_number"
   ]
  },
  {
   "cell_type": "code",
   "execution_count": 35,
   "metadata": {},
   "outputs": [],
   "source": [
    "class SpecialPlayer(Player, Student):\n",
    "    def __init__(self, name, player_number):\n",
    "        Player.__init__(self, player_number)\n",
    "        Student.__init__(self, name)"
   ]
  },
  {
   "cell_type": "code",
   "execution_count": 39,
   "metadata": {},
   "outputs": [
    {
     "name": "stdout",
     "output_type": "stream",
     "text": [
      "<class '__main__.Human'>\n<class 'type'>\n<class 'type'>\n"
     ]
    }
   ],
   "source": [
    "print(type(human1))\n",
    "print(type(Human))\n",
    "print(type(Student))"
   ]
  },
  {
   "cell_type": "code",
   "execution_count": 40,
   "metadata": {},
   "outputs": [
    {
     "name": "stdout",
     "output_type": "stream",
     "text": [
      "<class 'type'>\n"
     ]
    }
   ],
   "source": [
    "print(type(object))"
   ]
  },
  {
   "cell_type": "code",
   "execution_count": 46,
   "metadata": {},
   "outputs": [
    {
     "name": "stdout",
     "output_type": "stream",
     "text": [
      "ABC\n"
     ]
    }
   ],
   "source": [
    "class Player2(Human):\n",
    "    def __init__(self, name, nick_name):\n",
    "        super().__init__(name)\n",
    "        self.__nick_name = nick_name\n",
    "\n",
    "    def tell_me_your_name(self):\n",
    "        return self.__nick_name\n",
    "\n",
    "p2 = Player2('Saeid', 'ABC')\n",
    "print(p2.tell_me_your_name())"
   ]
  },
  {
   "cell_type": "code",
   "execution_count": 59,
   "metadata": {},
   "outputs": [
    {
     "name": "stdout",
     "output_type": "stream",
     "text": [
      "Grade is not ok.\n15\nSaeid: 15\n"
     ]
    }
   ],
   "source": [
    "class Student(Human):\n",
    "    def __init__(self, name, grade):\n",
    "        super().__init__(name)\n",
    "        self.__grade = grade\n",
    "        \n",
    "    def get_grade(self):\n",
    "        return self.__grade\n",
    "    \n",
    "    def set_grade(self, grade):\n",
    "        if grade is int and 0 <= grade <= 20:\n",
    "            self.__grade = grade\n",
    "        else:\n",
    "            print('Grade is not ok.')\n",
    "            \n",
    "    def __str__(self):\n",
    "        return '{}: {}'.format(self.tell_me_your_name(),\n",
    "                               self.__grade)\n",
    "\n",
    "std1 = Student('Saeid', 15)\n",
    "std1.set_grade('hello')\n",
    "print(std1.get_grade())\n",
    "print(std1)"
   ]
  },
  {
   "cell_type": "markdown",
   "metadata": {},
   "source": [
    "# Database"
   ]
  },
  {
   "cell_type": "markdown",
   "metadata": {},
   "source": [
    "# Database"
   ]
  },
  {
   "cell_type": "code",
   "execution_count": 60,
   "metadata": {},
   "outputs": [],
   "source": [
    ""
   ]
  },
  {
   "cell_type": "code",
   "execution_count": 60,
   "metadata": {},
   "outputs": [
    {
     "data": {
      "text/plain": [
       "'ABS'"
      ]
     },
     "execution_count": 60,
     "metadata": {},
     "output_type": "execute_result"
    }
   ],
   "source": [
    "'Abs'.upper()"
   ]
  },
  {
   "cell_type": "code",
   "execution_count": 61,
   "metadata": {},
   "outputs": [
    {
     "data": {
      "text/plain": [
       "'abs'"
      ]
     },
     "execution_count": 61,
     "metadata": {},
     "output_type": "execute_result"
    }
   ],
   "source": [
    "'Abs'.lower()"
   ]
  },
  {
   "cell_type": "code",
   "execution_count": null,
   "metadata": {},
   "outputs": [],
   "source": [
    ""
   ]
  }
 ],
 "metadata": {
  "kernelspec": {
   "display_name": "Python 2",
   "language": "python",
   "name": "python2"
  },
  "language_info": {
   "codemirror_mode": {
    "name": "ipython",
    "version": 2.0
   },
   "file_extension": ".py",
   "mimetype": "text/x-python",
   "name": "python",
   "nbconvert_exporter": "python",
   "pygments_lexer": "ipython2",
   "version": "2.7.6"
  }
 },
 "nbformat": 4,
 "nbformat_minor": 0
}